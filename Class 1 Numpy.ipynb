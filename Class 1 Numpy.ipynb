{
 "cells": [
  {
   "cell_type": "code",
   "execution_count": 14,
   "metadata": {},
   "outputs": [
    {
     "name": "stdout",
     "output_type": "stream",
     "text": [
      "Wall time: 0 ns\n"
     ]
    },
    {
     "data": {
      "text/plain": [
       "8"
      ]
     },
     "execution_count": 14,
     "metadata": {},
     "output_type": "execute_result"
    }
   ],
   "source": [
    "# % magic functions runs only on jupyter notebook\n",
    "# %history\n",
    "# %load tempfile.py (with proper filepath if file not in base location) - loads the the file in the current file\n",
    "# %run temp.py runs the file and loads its result in the current file\n",
    "%time sum([1,3,4]) # time taken to execute the function"
   ]
  },
  {
   "cell_type": "markdown",
   "metadata": {},
   "source": [
    "# PYTHON VS NUMPY"
   ]
  },
  {
   "cell_type": "markdown",
   "metadata": {},
   "source": [
    "# PYTHON"
   ]
  },
  {
   "cell_type": "code",
   "execution_count": 15,
   "metadata": {},
   "outputs": [
    {
     "name": "stdout",
     "output_type": "stream",
     "text": [
      "Wall time: 477 ms\n"
     ]
    }
   ],
   "source": [
    "%time l1 = list(range(1,3000000))"
   ]
  },
  {
   "cell_type": "code",
   "execution_count": 16,
   "metadata": {},
   "outputs": [
    {
     "name": "stdout",
     "output_type": "stream",
     "text": [
      "Wall time: 1.29 s\n"
     ]
    },
    {
     "data": {
      "text/plain": [
       "[6, 7, 8, 9, 10, 11, 12, 13, 14, 15]"
      ]
     },
     "execution_count": 16,
     "metadata": {},
     "output_type": "execute_result"
    }
   ],
   "source": [
    "%time [x+5 for x in l1][:10]"
   ]
  },
  {
   "cell_type": "code",
   "execution_count": 17,
   "metadata": {},
   "outputs": [
    {
     "data": {
      "text/plain": [
       "[(0, 'A'), (1, 'B'), (2, 'C')]"
      ]
     },
     "execution_count": 17,
     "metadata": {},
     "output_type": "execute_result"
    }
   ],
   "source": [
    "list(enumerate(['A','B','C']))"
   ]
  },
  {
   "cell_type": "code",
   "execution_count": 18,
   "metadata": {},
   "outputs": [
    {
     "data": {
      "text/plain": [
       "[6, 7, 8, 9, 10, 11, 12, 13, 14, 15]"
      ]
     },
     "execution_count": 18,
     "metadata": {},
     "output_type": "execute_result"
    }
   ],
   "source": [
    "for i,v in list(enumerate(l1)):\n",
    "    l1[i] = l1[i]+5\n",
    "\n",
    "l1[:10]"
   ]
  },
  {
   "cell_type": "code",
   "execution_count": 19,
   "metadata": {},
   "outputs": [
    {
     "name": "stdout",
     "output_type": "stream",
     "text": [
      "Before addding 5\n",
      "[[1, 2, 3], [4, 5, 6], [7, 8, 9]]\n",
      "After addding 5\n",
      "[[6, 7, 8], [9, 10, 11], [12, 13, 14]]\n"
     ]
    }
   ],
   "source": [
    "a = [[1,2,3],\n",
    "    [4,5,6],\n",
    "    [7,8,9]]\n",
    "\n",
    "print(\"Before addding 5\")\n",
    "print(a)\n",
    "\n",
    "for ri, rd in list(enumerate(a)):\n",
    "    for ci,cd in list(enumerate(rd)):\n",
    "        a[ri][ci] += 5\n",
    "        \n",
    "print(\"After addding 5\")\n",
    "print(a)\n"
   ]
  },
  {
   "cell_type": "markdown",
   "metadata": {},
   "source": [
    "# NUMPY"
   ]
  },
  {
   "cell_type": "code",
   "execution_count": 10,
   "metadata": {},
   "outputs": [],
   "source": [
    "import numpy as np"
   ]
  },
  {
   "cell_type": "code",
   "execution_count": 20,
   "metadata": {},
   "outputs": [
    {
     "name": "stdout",
     "output_type": "stream",
     "text": [
      "Wall time: 26.8 ms\n"
     ]
    }
   ],
   "source": [
    "%time l2 = np.arange(1,3000000)"
   ]
  },
  {
   "cell_type": "code",
   "execution_count": 22,
   "metadata": {},
   "outputs": [
    {
     "name": "stdout",
     "output_type": "stream",
     "text": [
      "Wall time: 23 ms\n"
     ]
    },
    {
     "data": {
      "text/plain": [
       "array([      6,       7,       8, ..., 3000002, 3000003, 3000004])"
      ]
     },
     "execution_count": 22,
     "metadata": {},
     "output_type": "execute_result"
    }
   ],
   "source": [
    "\n",
    "%time l2 + 5 #(not possible to add like this in simple python list, its called broadcasting performing plus operation)"
   ]
  },
  {
   "cell_type": "code",
   "execution_count": 24,
   "metadata": {},
   "outputs": [
    {
     "name": "stdout",
     "output_type": "stream",
     "text": [
      "Dimension: 1\n",
      "Shape: (3,)\n",
      "Type: int32\n"
     ]
    }
   ],
   "source": [
    "l2 = np.array([1,2,3])\n",
    "print(\"Dimension:\", l2.ndim)\n",
    "print(\"Shape:\", l2.shape)\n",
    "print(\"Type:\", l2.dtype)"
   ]
  },
  {
   "cell_type": "code",
   "execution_count": 26,
   "metadata": {},
   "outputs": [
    {
     "name": "stdout",
     "output_type": "stream",
     "text": [
      "Dimension: 2\n",
      "Shape: (2, 3)\n",
      "Type: int32\n"
     ]
    }
   ],
   "source": [
    "l2 = np.array([[1,2,3],\n",
    "              [3,2,4]])\n",
    "print(\"Dimension:\", l2.ndim)\n",
    "print(\"Shape:\", l2.shape)\n",
    "print(\"Type:\", l2.dtype)"
   ]
  },
  {
   "cell_type": "code",
   "execution_count": 30,
   "metadata": {},
   "outputs": [
    {
     "name": "stdout",
     "output_type": "stream",
     "text": [
      "[[-0.51074742  0.16733615]\n",
      " [ 0.39162656  0.24776419]]\n",
      "Dimension: 2\n",
      "Shape: (2, 2)\n",
      "Type: float64\n"
     ]
    }
   ],
   "source": [
    "l2 = np.random.randn(2,2) #gives 2x2 dimensional random array\n",
    "print(l2)\n",
    "print(\"Dimension:\", l2.ndim)\n",
    "print(\"Shape:\", l2.shape)\n",
    "print(\"Type:\", l2.dtype)"
   ]
  },
  {
   "cell_type": "code",
   "execution_count": 32,
   "metadata": {},
   "outputs": [
    {
     "name": "stdout",
     "output_type": "stream",
     "text": [
      "[[-1.06824412 -0.06310736]\n",
      " [-1.69074458 -0.10726051]]\n",
      "Dimension: 2\n",
      "Shape: (2, 2)\n",
      "Type: float64\n"
     ]
    }
   ],
   "source": [
    "l2 = np.random.randn(2,2) #gives 2x2 dimensional random array\n",
    "print(l2)\n",
    "print(\"Dimension:\", l2.ndim)\n",
    "print(\"Shape:\", l2.shape)\n",
    "print(\"Type:\", l2.dtype)\n",
    "#l1[row,column]"
   ]
  },
  {
   "cell_type": "code",
   "execution_count": 34,
   "metadata": {},
   "outputs": [
    {
     "name": "stdout",
     "output_type": "stream",
     "text": [
      "[[[ 0  1  2]\n",
      "  [ 3  4  5]\n",
      "  [ 6  7  8]]\n",
      "\n",
      " [[ 9 10 11]\n",
      "  [12 13 14]\n",
      "  [15 16 17]]\n",
      "\n",
      " [[18 19 20]\n",
      "  [21 22 23]\n",
      "  [24 25 26]]]\n",
      "Dimension: 3\n",
      "Shape: (3, 3, 3)\n",
      "Type: int32\n"
     ]
    }
   ],
   "source": [
    "l2 = np.arange(27).reshape(3,3,3) #gives 2x2 dimensional random array\n",
    "print(l2)\n",
    "print(\"Dimension:\", l2.ndim)\n",
    "print(\"Shape:\", l2.shape)\n",
    "print(\"Type:\", l2.dtype)\n",
    "#l2(slideNumber i, rowNumber j, columnNumber k)"
   ]
  },
  {
   "cell_type": "code",
   "execution_count": 39,
   "metadata": {},
   "outputs": [
    {
     "data": {
      "text/plain": [
       "16"
      ]
     },
     "execution_count": 39,
     "metadata": {},
     "output_type": "execute_result"
    }
   ],
   "source": [
    "l2[1]\n",
    "l2[1,2]\n",
    "l2[1,2,1]"
   ]
  },
  {
   "cell_type": "code",
   "execution_count": 40,
   "metadata": {},
   "outputs": [
    {
     "name": "stdout",
     "output_type": "stream",
     "text": [
      "[[[ 0  1  2]\n",
      "  [ 3  4  5]\n",
      "  [ 6  7  8]]\n",
      "\n",
      " [[ 9 10 11]\n",
      "  [12 13 14]\n",
      "  [15 16 17]]\n",
      "\n",
      " [[18 19 20]\n",
      "  [21 22 23]\n",
      "  [24 25 26]]]\n"
     ]
    },
    {
     "data": {
      "text/plain": [
       "array([[[ 5,  6,  7],\n",
       "        [ 8,  9, 10],\n",
       "        [11, 12, 13]],\n",
       "\n",
       "       [[14, 15, 16],\n",
       "        [17, 18, 19],\n",
       "        [20, 21, 22]],\n",
       "\n",
       "       [[23, 24, 25],\n",
       "        [26, 27, 28],\n",
       "        [29, 30, 31]]])"
      ]
     },
     "execution_count": 40,
     "metadata": {},
     "output_type": "execute_result"
    }
   ],
   "source": [
    "l2 = np.arange(27).reshape(3,3,3) #gives 2x2 dimensional random array\n",
    "print(l2)\n",
    "l2+5"
   ]
  },
  {
   "cell_type": "code",
   "execution_count": 49,
   "metadata": {},
   "outputs": [
    {
     "name": "stdout",
     "output_type": "stream",
     "text": [
      "[1 3 5 7 9]\n"
     ]
    }
   ],
   "source": [
    "l3 = np.arange(50) #generate n dimensional array till given index (same as range in python)\n",
    "l3 = np.arange(1,10, 2)\n",
    "print(l3)"
   ]
  },
  {
   "cell_type": "markdown",
   "metadata": {},
   "source": [
    "# A multidimensional array object"
   ]
  },
  {
   "cell_type": "code",
   "execution_count": 53,
   "metadata": {},
   "outputs": [
    {
     "name": "stdout",
     "output_type": "stream",
     "text": [
      "[ 1  2  3  4  5  6  7  8  9 10]\n",
      "Dimension: 1\n",
      "Shape: (10,)\n",
      "Type: int32\n"
     ]
    }
   ],
   "source": [
    "a = np.arange(1,11) # from 1 to 10\n",
    "print(a)\n",
    "print(\"Dimension:\", a.ndim)\n",
    "print(\"Shape:\", a.shape)\n",
    "print(\"Type:\", a.dtype)"
   ]
  },
  {
   "cell_type": "code",
   "execution_count": 55,
   "metadata": {},
   "outputs": [
    {
     "name": "stdout",
     "output_type": "stream",
     "text": [
      "[[ 1  2  3  4  5]\n",
      " [ 6  7  8  9 10]\n",
      " [11 12 13 14 15]\n",
      " [16 17 18 19 20]\n",
      " [21 22 23 24 25]]\n",
      "Dimension: 2\n",
      "Shape: (5, 5)\n",
      "Type: int32\n"
     ]
    }
   ],
   "source": [
    "a = np.arange(1,26).reshape(5,5)\n",
    "print(a)\n",
    "print(\"Dimension:\", a.ndim)\n",
    "print(\"Shape:\", a.shape)\n",
    "print(\"Type:\", a.dtype)"
   ]
  },
  {
   "cell_type": "code",
   "execution_count": 57,
   "metadata": {},
   "outputs": [
    {
     "name": "stdout",
     "output_type": "stream",
     "text": [
      "[[ 1  2]\n",
      " [ 3  4]\n",
      " [ 5  6]\n",
      " [ 7  8]\n",
      " [ 9 10]\n",
      " [11 12]]\n",
      "Dimension: 2\n",
      "Shape: (6, 2)\n",
      "Type: int32\n"
     ]
    }
   ],
   "source": [
    "a = np.arange(1,13).reshape((3,4))\n",
    "a = np.arange(1,13).reshape((2,6))\n",
    "a = np.arange(1,13).reshape((4,3))\n",
    "a = np.arange(1,13).reshape((6,2))\n",
    "print(a)\n",
    "print(\"Dimension:\", a.ndim)\n",
    "print(\"Shape:\", a.shape)\n",
    "print(\"Type:\", a.dtype)"
   ]
  },
  {
   "cell_type": "code",
   "execution_count": 62,
   "metadata": {},
   "outputs": [
    {
     "name": "stdout",
     "output_type": "stream",
     "text": [
      "[[[ 1  2  3]\n",
      "  [ 4  5  6]\n",
      "  [ 7  8  9]]\n",
      "\n",
      " [[10 11 12]\n",
      "  [13 14 15]\n",
      "  [16 17 18]]\n",
      "\n",
      " [[19 20 21]\n",
      "  [22 23 24]\n",
      "  [25 26 27]]]\n",
      "Dimension: 3\n",
      "Shape: (3, 3, 3)\n",
      "Itemsize: 4\n",
      "Type: int32\n"
     ]
    }
   ],
   "source": [
    "a = np.arange(1,28).reshape((3,3,3))\n",
    "print(a)\n",
    "print(\"Dimension:\", a.ndim)\n",
    "print(\"Shape:\", a.shape)\n",
    "print(\"Itemsize:\", a.itemsize) #size in bits - normally 4 bits for int\n",
    "print(\"Type:\", a.dtype)"
   ]
  },
  {
   "cell_type": "code",
   "execution_count": 63,
   "metadata": {},
   "outputs": [
    {
     "name": "stdout",
     "output_type": "stream",
     "text": [
      "[[[[ 1.24152486e+00 -1.95220291e+00 -1.58064236e+00]\n",
      "   [ 2.78351232e-01  2.23493693e+00 -6.16144681e-01]\n",
      "   [-4.75136945e-01  7.37213014e-01  8.53408140e-02]]\n",
      "\n",
      "  [[-1.20726660e-01  5.32513797e-01 -1.17911465e+00]\n",
      "   [ 1.23140599e+00  1.16425621e+00 -2.10684862e+00]\n",
      "   [-3.23937980e-01 -3.53970340e-01  8.22342721e-01]]\n",
      "\n",
      "  [[ 3.42746964e-01  9.63409138e-01 -3.06118845e-01]\n",
      "   [ 7.73843818e-01  2.13511403e-01  7.46701061e-01]\n",
      "   [ 1.93358450e-01 -1.42653995e+00 -9.17246778e-01]]]\n",
      "\n",
      "\n",
      " [[[-4.85441665e-01 -4.23649686e-01 -8.95736418e-02]\n",
      "   [ 9.63840491e-01 -6.88374391e-01  9.50593286e-01]\n",
      "   [-2.53386982e-01  5.39775559e-01 -1.40116043e+00]]\n",
      "\n",
      "  [[-1.37072218e+00  2.96616620e-01 -4.18570377e-01]\n",
      "   [-1.23823389e-01  9.93604772e-01 -7.85198225e-01]\n",
      "   [-5.93079128e-01 -1.97872810e+00 -7.75582303e-01]]\n",
      "\n",
      "  [[ 3.68978448e-01 -8.23297360e-01  9.20476454e-02]\n",
      "   [ 8.07489726e-01 -1.58879422e+00 -8.20703518e-01]\n",
      "   [ 1.82504202e-03  1.51173948e+00 -4.13232099e-01]]]\n",
      "\n",
      "\n",
      " [[[ 1.05694211e+00 -6.18067075e-01  3.75517863e-01]\n",
      "   [-1.15636170e+00 -2.87866520e-01 -1.11265408e+00]\n",
      "   [ 3.66711442e-01  2.16259416e+00  6.05578878e-01]]\n",
      "\n",
      "  [[ 1.04014110e+00  1.94684148e-01  1.12142692e+00]\n",
      "   [ 2.19430379e-01 -1.88343865e+00 -7.00414013e-01]\n",
      "   [ 1.70154711e+00 -4.63547563e-01 -2.05324811e-01]]\n",
      "\n",
      "  [[ 5.96236053e-01 -3.74257730e-01 -9.40617857e-01]\n",
      "   [ 9.57099519e-01  1.06908538e+00  9.44637605e-01]\n",
      "   [ 6.69707982e-01 -4.82436206e-01  5.35515156e-01]]]]\n",
      "Dimension: 4\n",
      "Shape: (3, 3, 3, 3)\n",
      "Itemsize: 8\n",
      "Type: float64\n"
     ]
    }
   ],
   "source": [
    "a = np.random.randn(3,3,3,3)\n",
    "print(a)\n",
    "print(\"Dimension:\", a.ndim)\n",
    "print(\"Shape:\", a.shape)\n",
    "print(\"Itemsize:\", a.itemsize) #size in bits - normally 4 bits for int\n",
    "print(\"Type:\", a.dtype)"
   ]
  },
  {
   "cell_type": "code",
   "execution_count": 72,
   "metadata": {},
   "outputs": [
    {
     "name": "stdout",
     "output_type": "stream",
     "text": [
      "[[ 1  2  3  4  5]\n",
      " [ 6  7  8  9 10]\n",
      " [11 12 13 14 15]\n",
      " [16 17 18 19 20]\n",
      " [21 22 23 24 25]]\n",
      "Dimension: 2\n",
      "Shape: (5, 5)\n",
      "Type: int32\n"
     ]
    }
   ],
   "source": [
    "a = np.arange(1,26).reshape(5,5)\n",
    "print(a)\n",
    "print(\"Dimension:\", a.ndim)\n",
    "print(\"Shape:\", a.shape)\n",
    "print(\"Type:\", a.dtype)"
   ]
  },
  {
   "cell_type": "code",
   "execution_count": 73,
   "metadata": {},
   "outputs": [
    {
     "data": {
      "text/plain": [
       "array([[False,  True, False,  True, False],\n",
       "       [ True, False,  True, False,  True],\n",
       "       [False,  True, False,  True, False],\n",
       "       [ True, False,  True, False,  True],\n",
       "       [False,  True, False,  True, False]])"
      ]
     },
     "execution_count": 73,
     "metadata": {},
     "output_type": "execute_result"
    }
   ],
   "source": [
    "a % 2 == 0"
   ]
  },
  {
   "cell_type": "code",
   "execution_count": 80,
   "metadata": {},
   "outputs": [
    {
     "data": {
      "text/plain": [
       "array([[[1.        , 1.41421356, 1.73205081],\n",
       "        [2.        , 2.23606798, 2.44948974],\n",
       "        [2.64575131, 2.82842712, 3.        ]],\n",
       "\n",
       "       [[3.16227766, 3.31662479, 3.46410162],\n",
       "        [3.60555128, 3.74165739, 3.87298335],\n",
       "        [4.        , 4.12310563, 4.24264069]],\n",
       "\n",
       "       [[4.35889894, 4.47213595, 4.58257569],\n",
       "        [4.69041576, 4.79583152, 4.89897949],\n",
       "        [5.        , 5.09901951, 5.19615242]]])"
      ]
     },
     "execution_count": 80,
     "metadata": {},
     "output_type": "execute_result"
    }
   ],
   "source": [
    "a = np.arange(1,28).reshape(3,3,3)\n",
    "a*2\n",
    "a+2\n",
    "a/2\n",
    "a**2 #power\n",
    "a**0.5 #square root"
   ]
  },
  {
   "cell_type": "markdown",
   "metadata": {},
   "source": [
    "# creating ndarrays"
   ]
  },
  {
   "cell_type": "markdown",
   "metadata": {},
   "source": [
    "### np.array (copies the array)"
   ]
  },
  {
   "cell_type": "code",
   "execution_count": 88,
   "metadata": {},
   "outputs": [
    {
     "name": "stdout",
     "output_type": "stream",
     "text": [
      "<class 'list'>\n"
     ]
    }
   ],
   "source": [
    "# deep copy = new copy\n",
    "# shallow copy = new reference\n",
    "\n",
    "#this is deep copy\n",
    "l = [1,2,3]\n",
    "print(type(l))"
   ]
  },
  {
   "cell_type": "code",
   "execution_count": 86,
   "metadata": {},
   "outputs": [
    {
     "name": "stdout",
     "output_type": "stream",
     "text": [
      "False\n"
     ]
    },
    {
     "data": {
      "text/plain": [
       "numpy.ndarray"
      ]
     },
     "execution_count": 86,
     "metadata": {},
     "output_type": "execute_result"
    }
   ],
   "source": [
    "a = np.array(l)\n",
    "b = np.array(a)\n",
    "\n",
    "print(a is b)\n",
    "type(a)"
   ]
  },
  {
   "cell_type": "markdown",
   "metadata": {},
   "source": [
    "### np.asarray"
   ]
  },
  {
   "cell_type": "code",
   "execution_count": 96,
   "metadata": {},
   "outputs": [
    {
     "name": "stdout",
     "output_type": "stream",
     "text": [
      "<class 'list'>\n",
      "True\n",
      "False\n",
      "False\n"
     ]
    },
    {
     "data": {
      "text/plain": [
       "numpy.ndarray"
      ]
     },
     "execution_count": 96,
     "metadata": {},
     "output_type": "execute_result"
    }
   ],
   "source": [
    "# deep copy = new copy\n",
    "# shallow copy = new reference\n",
    "\n",
    "#this is shallow copy\n",
    "\n",
    "# hat asarray does is\n",
    "# 1 array -> shallow copy\n",
    "# 2 array -> change dtype -> deep copy\n",
    "# 3 if not array -> deep copy\n",
    "l = [1,2,3]\n",
    "print(type(l))\n",
    "\n",
    "a = np.asarray(l)\n",
    "b = np.asarray(a)\n",
    "c = np.asarray(a, dtype=np.float64)\n",
    "\n",
    "print(a is b) #2\n",
    "print(l is a) #1\n",
    "print(c is a) #3\n",
    "type(a)"
   ]
  },
  {
   "cell_type": "code",
   "execution_count": null,
   "metadata": {},
   "outputs": [],
   "source": []
  },
  {
   "cell_type": "code",
   "execution_count": null,
   "metadata": {},
   "outputs": [],
   "source": []
  }
 ],
 "metadata": {
  "kernelspec": {
   "display_name": "Python 3",
   "language": "python",
   "name": "python3"
  }
 },
 "nbformat": 4,
 "nbformat_minor": 2
}
